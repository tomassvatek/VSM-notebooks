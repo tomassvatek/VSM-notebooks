{
 "cells": [
  {
   "cell_type": "markdown",
   "metadata": {},
   "source": [
    "# VSM exam"
   ]
  },
  {
   "cell_type": "code",
   "execution_count": null,
   "metadata": {},
   "outputs": [],
   "source": [
    "import numpy as np\n",
    "import scipy.linalg as la\n",
    "import scipy.stats as st\n",
    "import math as math"
   ]
  },
  {
   "cell_type": "markdown",
   "metadata": {},
   "source": [
    "### Random vectors"
   ]
  },
  {
   "cell_type": "code",
   "execution_count": 5,
   "metadata": {},
   "outputs": [
    {
     "data": {
      "text/plain": [
       "0.4166666666666667"
      ]
     },
     "execution_count": 5,
     "metadata": {},
     "output_type": "execute_result"
    }
   ],
   "source": [
    "11/6 - 49/36\n",
    "15/36"
   ]
  },
  {
   "cell_type": "markdown",
   "metadata": {},
   "source": [
    "### Entropy"
   ]
  },
  {
   "cell_type": "code",
   "execution_count": 217,
   "metadata": {},
   "outputs": [
    {
     "data": {
      "text/plain": [
       "2.584962500721156"
      ]
     },
     "execution_count": 217,
     "metadata": {},
     "output_type": "execute_result"
    }
   ],
   "source": [
    "e = st.entropy([1, 2, 3, 4, 5, 6], base = 2)\n",
    "math.log(6, 2)\n",
    "#print(e)"
   ]
  },
  {
   "cell_type": "code",
   "execution_count": 6,
   "metadata": {},
   "outputs": [],
   "source": [
    "# SDRUŽENÁ ENROPIE\n",
    "# m = náhodný vektor\n",
    "# nezáleží na pořadí x, y\n",
    "def combined_entropy(m, log_base = 2):\n",
    "    acc = 0\n",
    "    it = np.nditer(m.T, flags=['multi_index'])\n",
    "    for x in it:\n",
    "        # 0 log(0) je nedifinovaný výraz, který stavíme rovný nule\n",
    "        if(x != 0):\n",
    "            acc += -x * math.log(x, log_base)    \n",
    "    return acc "
   ]
  },
  {
   "cell_type": "code",
   "execution_count": 7,
   "metadata": {},
   "outputs": [],
   "source": [
    "# PODMÍNĚNÁ ENTROPIE\n",
    "# m = náhodný vektor\n",
    "# cond = čím podmiňuji např. H(X|Y) = 'y' jinak H(Y|X) = 'x'\n",
    "# záleží na pořadí x, y\n",
    "def cond_entropy(m, cond, log_base = 2):\n",
    "    # calc marginal\n",
    "    x_sum = np.sum(m, axis = 1)\n",
    "    y_sum = np.sum(m, axis = 0)\n",
    "    \n",
    "    acc = 0\n",
    "    it = np.nditer(m.T, flags=['multi_index'])\n",
    "    for x in it:\n",
    "        if(cond == 'y'):\n",
    "            log_value = x / y_sum[0, it.multi_index[0]]\n",
    "        else:\n",
    "            log_value = x/ x_sum[it.multi_index[1], 0]\n",
    "        \n",
    "        # 0 log(0) je nedifinovaný výraz, který stavíme rovný nule\n",
    "        if(log_value != 0):\n",
    "            acc += -x * math.log(log_value, log_base)    \n",
    "    return acc"
   ]
  },
  {
   "cell_type": "code",
   "execution_count": 8,
   "metadata": {},
   "outputs": [],
   "source": [
    "# VZÁJEMNÁ INFORMACE I(X;Y) = SUMA_X SUMA_Y p(x,y) log p(x,y)/p(x)*p(y)\n",
    "# m = náhodný vektor\n",
    "# nezáleží na pořadí x, y\n",
    "def mutual_info(m, log_base = 2):\n",
    "    # calc marginal\n",
    "    x_sum = np.sum(m, axis = 1)\n",
    "    y_sum = np.sum(m, axis = 0)\n",
    "    \n",
    "    acc = 0\n",
    "    it = np.nditer(m.T, flags=['multi_index'])\n",
    "    for x in it:\n",
    "        log_value = x / (y_sum[0, it.multi_index[0]] * x_sum[it.multi_index[1], 0])\n",
    "        # 0 log(0) je nedifinovaný výraz, který stavíme rovný nule\n",
    "        if(log_value != 0):\n",
    "            acc += x * math.log(log_value, log_base)    \n",
    "    return acc"
   ]
  },
  {
   "cell_type": "code",
   "execution_count": 28,
   "metadata": {},
   "outputs": [
    {
     "data": {
      "text/plain": [
       "0.5"
      ]
     },
     "execution_count": 28,
     "metadata": {},
     "output_type": "execute_result"
    }
   ],
   "source": [
    "# log function\n",
    "#-1/4 * math.log(1/4 / 1/2, 2) - \n",
    "#-1/4 * math.log(1/4 / 1/2, 2) - \n",
    "#m = np.matrix([[1/4, 0, 1/4], [1/4, 0, 0], [0, 1/8, 0], [0, 1/8, 0]])\n",
    "#m = np.matrix([[1/8, 1/16, 1/32, 1/32], [1/16, 1/8, 1/32, 1/32], [1/16, 1/16, 1/16, 1/16], [1/4, 0, 0, 0]])\n",
    "m = np.matrix([[1/4, 1/4, 1/2, 0]])\n",
    "cond_entropy(m, 'x')\n",
    "#combined_entropy(m)\n",
    "#mutual_info(m)"
   ]
  },
  {
   "cell_type": "code",
   "execution_count": 38,
   "metadata": {},
   "outputs": [
    {
     "data": {
      "text/plain": [
       "2.625"
      ]
     },
     "execution_count": 38,
     "metadata": {},
     "output_type": "execute_result"
    }
   ],
   "source": [
    "m = np.matrix([[1/2, 1/2], [0, 1]])\n",
    "#cond_entropy(m, 'y')\n",
    "#combined_entropy(m)\n",
    "#st.entropy([1/3, 1/2, 1/6], base=2)\n",
    "-1/3 * math.log(1/3, 2) - 1/2 * math.log(1/2, 2) - 1/6 * math.log(1/6, 2)\n",
    "5/3\n",
    "21/8"
   ]
  },
  {
   "cell_type": "markdown",
   "metadata": {},
   "source": [
    "### Markov discrete chain"
   ]
  },
  {
   "cell_type": "code",
   "execution_count": 2,
   "metadata": {},
   "outputs": [],
   "source": [
    "a = 1/5\n",
    "b = 3/4"
   ]
  },
  {
   "cell_type": "code",
   "execution_count": 3,
   "metadata": {},
   "outputs": [
    {
     "name": "stdout",
     "output_type": "stream",
     "text": [
      "P =\n",
      " [[0.8  0.2 ]\n",
      " [0.75 0.25]]\n"
     ]
    }
   ],
   "source": [
    "# matice přechodu\n",
    "P = np.matrix([[1-a, a], [b, 1-b]])\n",
    "print(\"P =\\n\", P)"
   ]
  },
  {
   "cell_type": "code",
   "execution_count": 11,
   "metadata": {},
   "outputs": [
    {
     "name": "stdout",
     "output_type": "stream",
     "text": [
      "[[1.]\n",
      " [1.]]\n"
     ]
    }
   ],
   "source": [
    "# kontrola že součet řádků je 1\n",
    "print(np.sum(P, axis = 1))"
   ]
  },
  {
   "cell_type": "code",
   "execution_count": 12,
   "metadata": {},
   "outputs": [
    {
     "name": "stdout",
     "output_type": "stream",
     "text": [
      "P^2 = \n",
      " [[0.79   0.21  ]\n",
      " [0.7875 0.2125]]\n",
      "[[1.]\n",
      " [1.]]\n"
     ]
    }
   ],
   "source": [
    "# dvoukroková matice přechodu\n",
    "print(\"P^2 = \\n\", P**2)\n",
    "print(np.sum(P**2, axis = 1))"
   ]
  },
  {
   "cell_type": "code",
   "execution_count": 16,
   "metadata": {},
   "outputs": [
    {
     "data": {
      "text/plain": [
       "matrix([[1, 0]])"
      ]
     },
     "execution_count": 16,
     "metadata": {},
     "output_type": "execute_result"
    }
   ],
   "source": [
    "# počáteční rozdělení\n",
    "p0 = np.matrix([1,0])\n",
    "p0"
   ]
  },
  {
   "cell_type": "code",
   "execution_count": 19,
   "metadata": {},
   "outputs": [
    {
     "data": {
      "text/plain": [
       "matrix([[0.7895, 0.2105]])"
      ]
     },
     "execution_count": 19,
     "metadata": {},
     "output_type": "execute_result"
    }
   ],
   "source": [
    "# rozdělení v čase n\n",
    "n = 3\n",
    "pn = p0 * P**n\n",
    "pn"
   ]
  },
  {
   "cell_type": "code",
   "execution_count": 22,
   "metadata": {},
   "outputs": [
    {
     "data": {
      "text/plain": [
       "(0.7894736842105263, 0.21052631578947367)"
      ]
     },
     "execution_count": 22,
     "metadata": {},
     "output_type": "execute_result"
    }
   ],
   "source": [
    "(15/19, 4/19)"
   ]
  },
  {
   "cell_type": "code",
   "execution_count": 27,
   "metadata": {},
   "outputs": [],
   "source": [
    "# stacionární rozdělení\n",
    "# lze použít místo ručního řešení rovnic\n",
    "def stac_dist(P):\n",
    "    W = np.transpose(P-np.eye(P.shape[0]))\n",
    "    pi = la.null_space(W)\n",
    "    pi = np.transpose(pi/sum(pi)) # normalization\n",
    "    return pi "
   ]
  },
  {
   "cell_type": "code",
   "execution_count": 29,
   "metadata": {},
   "outputs": [
    {
     "data": {
      "text/plain": [
       "array([[0.1, 0.2, 0.4, 0.3]])"
      ]
     },
     "execution_count": 29,
     "metadata": {},
     "output_type": "execute_result"
    }
   ],
   "source": [
    "P = np.matrix([[0.1, 0.2, 0.4, 0.3], [0.1, 0.2, 0.4, 0.3], [0.1, 0.2, 0.4, 0.3], [0.1, 0.2, 0.4, 0.3]])\n",
    "stac_dist(P)"
   ]
  },
  {
   "cell_type": "code",
   "execution_count": 32,
   "metadata": {},
   "outputs": [
    {
     "data": {
      "text/plain": [
       "9.399999999999999"
      ]
     },
     "execution_count": 32,
     "metadata": {},
     "output_type": "execute_result"
    }
   ],
   "source": [
    "36 * 0.1 + 22 * 0.2 + 8 * 0.4 - 6 * 0.3"
   ]
  },
  {
   "cell_type": "markdown",
   "metadata": {},
   "source": [
    "### Příklad 10690"
   ]
  },
  {
   "cell_type": "code",
   "execution_count": 59,
   "metadata": {},
   "outputs": [
    {
     "data": {
      "text/plain": [
       "matrix([[0.384   , 0.472   , 0.144   , 0.      ],\n",
       "        [0.07296 , 0.40072 , 0.40968 , 0.11664 ],\n",
       "        [0.013992, 0.138604, 0.430416, 0.416988],\n",
       "        [0.004407, 0.062959, 0.322461, 0.610173]])"
      ]
     },
     "execution_count": 59,
     "metadata": {},
     "output_type": "execute_result"
    }
   ],
   "source": [
    "# násobím i řádek a j sloupec matice přechodů\n",
    "P = np.matrix([[0.6, 0.4, 0, 0], [0.06, 0.58, 0.36, 0], [0.006, 0.112, 0.558, 0.324], [0.001, 0.027, 0.243, 0.729]])\n",
    "Pr = np.matrix([[0.06, 0.58, 0.36, 0]])\n",
    "Pc = np.matrix([[0, 0.36, 0.558, 0.243]])\n",
    "\n",
    "#t = np.transpose(P)\n",
    "\n",
    "#print(P)\n",
    "result = P * P\n",
    "result\n"
   ]
  },
  {
   "cell_type": "code",
   "execution_count": 60,
   "metadata": {},
   "outputs": [
    {
     "data": {
      "text/plain": [
       "array([[0.03006697, 0.15598727, 0.37072151, 0.44322424]])"
      ]
     },
     "execution_count": 60,
     "metadata": {},
     "output_type": "execute_result"
    }
   ],
   "source": [
    "stac_dist(P)"
   ]
  },
  {
   "cell_type": "markdown",
   "metadata": {},
   "source": [
    "### Příklad č. 10691"
   ]
  },
  {
   "cell_type": "code",
   "execution_count": 62,
   "metadata": {},
   "outputs": [
    {
     "name": "stdout",
     "output_type": "stream",
     "text": [
      "[[0.4 0.2 0.4]]\n",
      "(0.2, 0.4, 0.4)\n"
     ]
    }
   ],
   "source": [
    "P = np.matrix([[1/2, 1/4, 1/4], [1/2, 0, 1/2], [1/4, 1/4, 1/2]])\n",
    "print(stac_dist(P))"
   ]
  },
  {
   "cell_type": "code",
   "execution_count": 63,
   "metadata": {},
   "outputs": [
    {
     "data": {
      "text/plain": [
       "array([[0.3, 0.5, 0.2]])"
      ]
     },
     "execution_count": 63,
     "metadata": {},
     "output_type": "execute_result"
    }
   ],
   "source": [
    "P = np.matrix([[0.6, 0.3, 0.1], [0.2, 0.7, 0.1], [0.1, 0.3, 0.6]])\n",
    "stac_dist(P)"
   ]
  },
  {
   "cell_type": "code",
   "execution_count": 64,
   "metadata": {},
   "outputs": [
    {
     "data": {
      "text/plain": [
       "array([[0., 0., 0., 0., 1.],\n",
       "       [1., 0., 0., 0., 0.]])"
      ]
     },
     "execution_count": 64,
     "metadata": {},
     "output_type": "execute_result"
    }
   ],
   "source": [
    "P = np.matrix([[1, 0, 0, 0, 0], [0.6, 0, 0.4, 0, 0], [0, 0.6, 0, 0.4, 0], [0, 0, 0.6, 0, 0.4], [0, 0, 0, 0, 1]])\n",
    "stac_dist(P)"
   ]
  },
  {
   "cell_type": "code",
   "execution_count": 79,
   "metadata": {},
   "outputs": [
    {
     "data": {
      "text/plain": [
       "matrix([[3.13888889]])"
      ]
     },
     "execution_count": 79,
     "metadata": {},
     "output_type": "execute_result"
    }
   ],
   "source": [
    "B = np.matrix([[1,2]])\n",
    "V = np.matrix([[17/36, 0], [0, 2/3]])\n",
    "B * V * np.transpose(B)"
   ]
  },
  {
   "cell_type": "markdown",
   "metadata": {},
   "source": [
    "### Testování hypotéz"
   ]
  },
  {
   "cell_type": "code",
   "execution_count": 63,
   "metadata": {},
   "outputs": [
    {
     "name": "stdout",
     "output_type": "stream",
     "text": [
      "1.4999999999999991\n",
      "1.4999999999999991 1.8331129326536337\n"
     ]
    }
   ],
   "source": [
    "import scipy.stats as st\n",
    "#x = np.array([])\n",
    "#st.ttest_1samp(x, mu0, alternative = 'greater')\n",
    "# prů\n",
    "mean = 53/10\n",
    "n = 10\n",
    "sn = np.sqrt(3.6 / (n-1))\n",
    "T = (mean - 5) * np.sqrt(n) / sn\n",
    "print(T)\n",
    "\n",
    "alpha = 0.05\n",
    "t_alpha_n1 = st.t.isf(alpha, n-1)\n",
    "print(T, t_alpha_n1)"
   ]
  }
 ],
 "metadata": {
  "interpreter": {
   "hash": "b0fa6594d8f4cbf19f97940f81e996739fb7646882a419484c72d19e05852a7e"
  },
  "kernelspec": {
   "display_name": "Python 3.9.12 64-bit",
   "language": "python",
   "name": "python3"
  },
  "language_info": {
   "codemirror_mode": {
    "name": "ipython",
    "version": 3
   },
   "file_extension": ".py",
   "mimetype": "text/x-python",
   "name": "python",
   "nbconvert_exporter": "python",
   "pygments_lexer": "ipython3",
   "version": "3.9.12"
  }
 },
 "nbformat": 4,
 "nbformat_minor": 4
}
